{
  "nbformat": 4,
  "nbformat_minor": 0,
  "metadata": {
    "colab": {
      "name": "HMP_predict.ipynb",
      "provenance": [],
      "collapsed_sections": []
    },
    "kernelspec": {
      "display_name": "Python 3",
      "name": "python3"
    }
  },
  "cells": [
    {
      "cell_type": "markdown",
      "metadata": {
        "id": "6aiKrtL0LsQM"
      },
      "source": [
        "# Prediction with HMP feature\n"
      ]
    },
    {
      "cell_type": "code",
      "metadata": {
        "id": "VssX6Jy0b1gH"
      },
      "source": [
        "# Installs the TensorFlow Library\n",
        "!pip install -U -q tensorflow"
      ],
      "execution_count": 202,
      "outputs": []
    },
    {
      "cell_type": "code",
      "metadata": {
        "colab": {
          "base_uri": "https://localhost:8080/"
        },
        "id": "xpyH4MDXgBLh",
        "outputId": "1c1ded55-d889-4cc3-8c99-de580a102386"
      },
      "source": [
        "# Code to create a connection between Google Colab and folder with data at Google Drive\n",
        "from google.colab import drive\n",
        "import os\n",
        "drive.mount('/content/drive/')\n",
        "#os.chdir('/content/drive/My Drive/CA684_Assignment/')\n",
        "os.chdir('/content/drive/My Drive/CA684/')"
      ],
      "execution_count": 203,
      "outputs": [
        {
          "output_type": "stream",
          "text": [
            "Drive already mounted at /content/drive/; to attempt to forcibly remount, call drive.mount(\"/content/drive/\", force_remount=True).\n"
          ],
          "name": "stdout"
        }
      ]
    },
    {
      "cell_type": "code",
      "metadata": {
        "id": "CZ0rNpFALrpA"
      },
      "source": [
        "import pandas as pd\n",
        "from keras import Sequential\n",
        "from keras import layers\n",
        "from keras import regularizers\n",
        "import numpy as np\n",
        "from keras.preprocessing.text import Tokenizer\n",
        "from sklearn.model_selection import train_test_split\n",
        "import matplotlib.pyplot as plt\n",
        "from keras import preprocessing\n",
        "import tensorflow\n",
        "import os\n"
      ],
      "execution_count": 204,
      "outputs": []
    },
    {
      "cell_type": "code",
      "metadata": {
        "id": "xGzgl2eJetF0"
      },
      "source": [
        "# for reproducibility of pseudo-random numbers\n",
        "from numpy.random import seed\n",
        "seed(1)\n",
        "\n",
        "# Import of Progressbar library to show the status of any long process in data processing methods\n",
        "from progressbar import ProgressBar\n",
        "pbar = ProgressBar()"
      ],
      "execution_count": 206,
      "outputs": []
    },
    {
      "cell_type": "code",
      "metadata": {
        "colab": {
          "base_uri": "https://localhost:8080/"
        },
        "id": "ffxWp1DD7t26",
        "outputId": "f9fab10c-e55f-4c02-f463-60d5d61f47da"
      },
      "source": [
        "!ls"
      ],
      "execution_count": 207,
      "outputs": [
        {
          "output_type": "stream",
          "text": [
            "Arun_Baluni_20214584.docx  hmp_features_dev_data.csv  TestWork.ipynb\n",
            "Dev-set\t\t\t   HMP_predict.ipynb\n",
            "hmp_data_test.csv\t   Test-set\n"
          ],
          "name": "stdout"
        }
      ]
    },
    {
      "cell_type": "code",
      "metadata": {
        "id": "a8UxeSWTc7lO"
      },
      "source": [
        "# Function to read each line of HMP file for HMP (Histogram of Motion Patterns) features\"\"\"              \n",
        "def read_HMP_data(fname):\n",
        "    count = 0\n",
        "    with open(fname) as f:\n",
        "        for line in f:\n",
        "            pairs=line.split()\n",
        "            HMP_temp = { int(p.split(':')[0]) : float(p.split(':')[1]) for p in pairs}\n",
        "            count = count + 1\n",
        "    # There are 6075 bins, fill the numpy array with zeros\n",
        "    HMP = np.zeros(6075)\n",
        "    for idx in HMP_temp.keys():\n",
        "        HMP[idx-1] = HMP_temp[idx]            \n",
        "    return HMP"
      ],
      "execution_count": 208,
      "outputs": []
    },
    {
      "cell_type": "code",
      "metadata": {
        "colab": {
          "base_uri": "https://localhost:8080/"
        },
        "id": "Xx4tR76O7JAd",
        "outputId": "74d6c31d-e37f-4251-bf10-565b9fe73cc0"
      },
      "source": [
        "# load the ground truth values from Dev-set\n",
        "ground_truth_path = './Dev-set/Ground-truth/'\n",
        "ground_truth_labels = pd.read_csv(ground_truth_path+'ground-truth.csv')\n",
        "\n",
        "hmp_feature_path = './Dev-set/'\n",
        "# Load video related features\n",
        "videos = ground_truth_labels.video.values\n",
        "\n",
        "hmp_Features = pd.DataFrame({'video': videos,\n",
        "                   'HMP': [read_HMP_data(hmp_feature_path + 'HMP'+'/'+ os.path.splitext(videos[video])[0]+'.txt') for video in pbar(range(len(videos)))]\n",
        "                       })\n"
      ],
      "execution_count": 209,
      "outputs": [
        {
          "output_type": "stream",
          "text": [
            "100% (6000 of 6000) |####################| Elapsed Time: 0:00:53 Time:  0:00:53\n"
          ],
          "name": "stderr"
        }
      ]
    },
    {
      "cell_type": "code",
      "metadata": {
        "colab": {
          "base_uri": "https://localhost:8080/"
        },
        "id": "jl_YYLwzirmL",
        "outputId": "0d68e91a-fc9e-4938-f44e-a34d58b4c98c"
      },
      "source": [
        "#Saving HMP features in CSV to save data in future data processing\n",
        "Features.to_csv('hmp_features_dev_data.csv')\n",
        "hmp_Features.shape"
      ],
      "execution_count": 210,
      "outputs": [
        {
          "output_type": "execute_result",
          "data": {
            "text/plain": [
              "(6000, 2)"
            ]
          },
          "metadata": {
            "tags": []
          },
          "execution_count": 210
        }
      ]
    },
    {
      "cell_type": "markdown",
      "metadata": {
        "id": "KlkEwNwuFs2l"
      },
      "source": [
        ""
      ]
    },
    {
      "cell_type": "code",
      "metadata": {
        "id": "BVL3KttVe2G5"
      },
      "source": [
        "# Join the sequence of arrays in along a axis\n",
        "X = np.stack(Features['HMP'].values)\n",
        "\n",
        "# Read the Ground Truth label values stored in Dev dataset\n",
        "Y = ground_truth_labels[['short-term_memorability','long-term_memorability']].values\n",
        "\n",
        "# Break the input with 80% of data in (X_train, Y_train) for training of data and rest 20% data of (X_val, Y_val) to validate the model\n",
        "X_train, X_val, Y_train, Y_val = train_test_split(X,Y, test_size=0.2, random_state=42)"
      ],
      "execution_count": 230,
      "outputs": []
    },
    {
      "cell_type": "code",
      "metadata": {
        "colab": {
          "base_uri": "https://localhost:8080/"
        },
        "id": "h0KPx-Snb_DZ",
        "outputId": "e664aa07-38d0-4b1e-96aa-9a7191191776"
      },
      "source": [
        "# Load testing data for HMP from the Test-set folder\n",
        "test_path = './Test-set/'\n",
        "hmp_test_videos = os.listdir(test_path+'HMP_test')\n",
        "\n",
        "pbar = ProgressBar()\n",
        "\n",
        "test_hmp_features = pd.DataFrame({'video': hmp_test_videos,\n",
        "                   'HMP': [read_HMP_data(test_path+'HMP_test'+'/'+ hmp_test_videos[test_video]) for test_video in pbar(range(len(hmp_test_videos)))],\n",
        "                       })\n",
        "# Join the sequence of arrays in along a axis\n",
        "X_test = np.stack(test_hmp_features['HMP'].values)\n"
      ],
      "execution_count": 213,
      "outputs": [
        {
          "output_type": "stream",
          "text": [
            "100% (2000 of 2000) |####################| Elapsed Time: 0:00:15 Time:  0:00:15\n"
          ],
          "name": "stderr"
        }
      ]
    },
    {
      "cell_type": "code",
      "metadata": {
        "colab": {
          "base_uri": "https://localhost:8080/"
        },
        "id": "Zc941WFipwoj",
        "outputId": "11f742c4-e5e9-4ac5-8b34-de2c2d719c80"
      },
      "source": [
        "print(len(X_test))"
      ],
      "execution_count": 214,
      "outputs": [
        {
          "output_type": "stream",
          "text": [
            "2000\n"
          ],
          "name": "stdout"
        }
      ]
    },
    {
      "cell_type": "markdown",
      "metadata": {
        "id": "WdbpfXqJKHCU"
      },
      "source": [
        "# Building the Model"
      ]
    },
    {
      "cell_type": "code",
      "metadata": {
        "colab": {
          "base_uri": "https://localhost:8080/"
        },
        "id": "TVl5imC1KI1P",
        "outputId": "ee2987ac-0ae8-4566-e0fc-b40591b86d11"
      },
      "source": [
        "# Sequential Model\n",
        "model = Sequential()\n",
        "model.add(layers.Dense(500,activation='relu',kernel_regularizer=None,input_shape=(X.shape[1],)))\n",
        "model.add(layers.Dropout(0.2))\n",
        "model.add(layers.Dense(500,activation='relu',kernel_regularizer=None))\n",
        "model.add(layers.Dropout(0.2))\n",
        "model.add(layers.Dense(500,activation='relu',kernel_regularizer=None))\n",
        "model.add(layers.Dropout(0.2))\n",
        "model.add(layers.Dense(2,activation='sigmoid'))\n",
        "model.summary()\n",
        "\n",
        "\n",
        "model.compile(optimizer='rmsprop',loss=['mae'],metrics=['acc'])\n",
        "\n",
        "history = model.fit(x=X_train, y=Y_train, batch_size=50, epochs=50, shuffle=True, verbose=False, validation_data=(X_val, Y_val))   # validation_split=0.2 removed \n"
      ],
      "execution_count": 215,
      "outputs": [
        {
          "output_type": "stream",
          "text": [
            "Model: \"sequential_8\"\n",
            "_________________________________________________________________\n",
            "Layer (type)                 Output Shape              Param #   \n",
            "=================================================================\n",
            "dense_32 (Dense)             (None, 500)               3038000   \n",
            "_________________________________________________________________\n",
            "dropout_24 (Dropout)         (None, 500)               0         \n",
            "_________________________________________________________________\n",
            "dense_33 (Dense)             (None, 500)               250500    \n",
            "_________________________________________________________________\n",
            "dropout_25 (Dropout)         (None, 500)               0         \n",
            "_________________________________________________________________\n",
            "dense_34 (Dense)             (None, 500)               250500    \n",
            "_________________________________________________________________\n",
            "dropout_26 (Dropout)         (None, 500)               0         \n",
            "_________________________________________________________________\n",
            "dense_35 (Dense)             (None, 2)                 1002      \n",
            "=================================================================\n",
            "Total params: 3,540,002\n",
            "Trainable params: 3,540,002\n",
            "Non-trainable params: 0\n",
            "_________________________________________________________________\n"
          ],
          "name": "stdout"
        }
      ]
    },
    {
      "cell_type": "markdown",
      "metadata": {
        "id": "zS3z6cvBKQiL"
      },
      "source": [
        "# Visualisaton of results\n",
        "- Visualising the loss and training results\n",
        "- Visualising the short-term and long term scatter plot"
      ]
    },
    {
      "cell_type": "code",
      "metadata": {
        "colab": {
          "base_uri": "https://localhost:8080/",
          "height": 295
        },
        "id": "2IGN2jwYKSW6",
        "outputId": "a872b6a1-6ce6-4de6-e0b0-2fb6882c2750"
      },
      "source": [
        "# Visualising the training loss vs validation loss\n",
        "training_loss = history.history['loss']\n",
        "validation_loss = history.history['val_loss']\n",
        "\n",
        "epochs = range(1,len(loss)+1)\n",
        "\n",
        "plt.figure()\n",
        "\n",
        "plt.plot(epochs,training_loss,'bo',label='Training loss')\n",
        "plt.plot(epochs,validation_loss,'b',label='Validation loss')\n",
        "plt.title('Training and validation loss in short term memorability')\n",
        "plt.xlabel('Epochs')\n",
        "plt.ylabel('Loss')\n",
        "plt.legend()\n",
        "plt.show()"
      ],
      "execution_count": 216,
      "outputs": [
        {
          "output_type": "display_data",
          "data": {
            "image/png": "[encoded data removed]",
            "text/plain": [
              "<Figure size 432x288 with 1 Axes>"
            ]
          },
          "metadata": {
            "tags": [],
            "needs_background": "light"
          }
        }
      ]
    },
    {
      "cell_type": "code",
      "metadata": {
        "colab": {
          "base_uri": "https://localhost:8080/",
          "height": 557
        },
        "id": "-SaZwSygSmHl",
        "outputId": "a4187083-d585-45f5-eab1-b5371526aa9b"
      },
      "source": [
        "# Training and Validation prediction graph\n",
        "Y_predicted_train = history.model.predict(X_train)\n",
        "Y_predicted_validation = history.model.predict(X_val)\n",
        "\n",
        "plt.figure()\n",
        "plt.scatter(Y_predicted_train[:,0],Y_predicted_train[:,1],marker='o',c='b',label='Train')\n",
        "plt.scatter(Y_predicted_validation[:,0],Y_predicted_validation[:,1],marker='x',c='red',label='Validation')\n",
        "plt.scatter(Y[:,0],Y[:,1],marker='x',c='cyan',label='true',alpha=0.1)\n",
        "plt.xlim([0,1])\n",
        "plt.ylim([0,1])\n",
        "plt.legend()\n",
        "plt.xlabel('short-term')\n",
        "plt.ylabel('long-term')\n",
        "plt.title('Training results')\n",
        "plt.show()\n",
        "    \n",
        "# plot testing results graph\n",
        "Y_pred = history.model.predict(X_test[:,:],batch_size=32)\n",
        "plt.figure()\n",
        "plt.scatter(Y_pred[:,0],Y_pred[:,1],marker='o',c='g', label='test')\n",
        "plt.xlabel('short-term')\n",
        "plt.ylabel('long-term')\n",
        "plt.show()\n"
      ],
      "execution_count": 218,
      "outputs": [
        {
          "output_type": "display_data",
          "data": {
            "image/png": "[encoded data removed]",
            "text/plain": [
              "<Figure size 432x288 with 1 Axes>"
            ]
          },
          "metadata": {
            "tags": [],
            "needs_background": "light"
          }
        },
        {
          "output_type": "display_data",
          "data": {
            "image/png": "[encoded data removed]",
            "text/plain": [
              "<Figure size 432x288 with 1 Axes>"
            ]
          },
          "metadata": {
            "tags": [],
            "needs_background": "light"
          }
        }
      ]
    },
    {
      "cell_type": "code",
      "metadata": {
        "id": "pC-7GqfglaEB"
      },
      "source": [
        "def Get_score(Y_predicted,Y_actual):\n",
        "    '''Calculate the Spearmann\"s correlation coefficient'''\n",
        "    Y_predicted = np.squeeze(Y_predicted)\n",
        "    Y_actual = np.squeeze(Y_actual)\n",
        "\n",
        "    if Y_predicted.shape != Y_actual.shape:\n",
        "        print('Input shapes don\\'t match!')\n",
        "    else:\n",
        "        if len(Y_predicted.shape) == 1:\n",
        "            Res = pd.DataFrame({'Y_actual':Y_actual,'Y_predicted':Y_predicted})\n",
        "            score_mat = Res[['Y_actual','Y_predicted']].corr(method='spearman',min_periods=1)\n",
        "            print('Spearman\\'s correlation coefficient is: %.3f' % score_mat.iloc[1][0])\n",
        "            \n",
        "        else:\n",
        "            for k in range(Y_predicted.shape[1]):\n",
        "                if(k == 0):\n",
        "                    print('Short term memorability')\n",
        "                    Get_score(Y_predicted[:,k],Y_actual[:,k])\n",
        "                else:\n",
        "                    print('\\nLong term memorability')\n",
        "                    Get_score(Y_predicted[:,k],Y_actual[:,k])"
      ],
      "execution_count": 253,
      "outputs": []
    },
    {
      "cell_type": "code",
      "metadata": {
        "colab": {
          "base_uri": "https://localhost:8080/"
        },
        "id": "2o0eweFdf969",
        "outputId": "f29fe68e-e961-489a-e403-4758374b1c06"
      },
      "source": [
        "# Memorability Score\n",
        "\n",
        "Get_score(Y_predicted_validation,Y_val)\n"
      ],
      "execution_count": 254,
      "outputs": [
        {
          "output_type": "stream",
          "text": [
            "Short term memorability\n",
            "Spearman's correlation coefficient is: 0.325\n",
            "\n",
            "Long term memorability\n",
            "Spearman's correlation coefficient is: 0.126\n"
          ],
          "name": "stdout"
        }
      ]
    },
    {
      "cell_type": "code",
      "metadata": {
        "colab": {
          "base_uri": "https://localhost:8080/"
        },
        "id": "xhfloLJwLz7e",
        "outputId": "ad553964-e314-42d9-fc15-5cd6fe94ba5e"
      },
      "source": [
        "score = model.evaluate(X_val, Y_val, verbose=0)\n",
        "print('Validation loss:', score[0])\n",
        "print('Validation accuracy:', score[1])"
      ],
      "execution_count": 255,
      "outputs": [
        {
          "output_type": "stream",
          "text": [
            "Validation loss: 0.08792687952518463\n",
            "Validation accuracy: 0.7099999785423279\n"
          ],
          "name": "stdout"
        }
      ]
    }
  ]
}